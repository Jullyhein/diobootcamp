{
  "nbformat": 4,
  "nbformat_minor": 0,
  "metadata": {
    "colab": {
      "provenance": [],
      "authorship_tag": "ABX9TyPtyifLeLo76UCUa68bVe+P",
      "include_colab_link": true
    },
    "kernelspec": {
      "name": "python3",
      "display_name": "Python 3"
    },
    "language_info": {
      "name": "python"
    }
  },
  "cells": [
    {
      "cell_type": "markdown",
      "metadata": {
        "id": "view-in-github",
        "colab_type": "text"
      },
      "source": [
        "<a href=\"https://colab.research.google.com/github/Jullyhein/diobootcamp/blob/main/Untitled11.ipynb\" target=\"_parent\"><img src=\"https://colab.research.google.com/assets/colab-badge.svg\" alt=\"Open In Colab\"/></a>"
      ]
    },
    {
      "cell_type": "code",
      "source": [
        "def menu():\n",
        "  menu = \"\"\"\n",
        "\n",
        "  [d] Depositar\n",
        "  [s] Sacar\n",
        "  [e] Extrato\n",
        "  [nc] Nova Conta\n",
        "  [lc] Listar contas\n",
        "  [nu] Novo usuário\n",
        "  [q] Sair\n",
        "\n",
        "\"\"\"\n",
        "  return input(menu)\n"
      ],
      "metadata": {
        "id": "MGaWaX7ZdBVV"
      },
      "execution_count": null,
      "outputs": []
    },
    {
      "cell_type": "code",
      "source": [
        "def depositar(valor, saldo, extrato, /):\n",
        "    valor = float(input(\"Qual valor que deseja depositar? \"))\n",
        "    if valor > 0 :\n",
        "      saldo += valor\n",
        "      print('Depósito feito com sucesso')\n",
        "      extrato += f'Extrato: R${saldo:.2f}\\n'\n",
        "    else: print(\"Operação inválida, o valor é inválido\")\n",
        "\n",
        "    return saldo, extrato"
      ],
      "metadata": {
        "id": "qOwUFJj2dqKg"
      },
      "execution_count": 10,
      "outputs": []
    },
    {
      "cell_type": "code",
      "source": [
        "def saque(*, saldo, valor, extrato, limite, numero_saques, LIMITE_SAQUES):\n",
        "  excedeu_saldo = valor > saldo\n",
        "  excedeu_limite = valor > limite\n",
        "  excedeu_saques = numero_saques >= LIMITE_SAQUES\n",
        "\n",
        "  if excedeu_saldo:\n",
        "    print(\"Operação cancelada. Você não tem saldo o suficiente\")\n",
        "  elif excedeu_limite:\n",
        "    print(\"Operação cancelada. Você excedeu o limite para saques\")\n",
        "  elif valor > saldo:\n",
        "    saldo -= valor\n",
        "    extrato += f\"Saque: R$ {valor:.2f}\\n\"\n",
        "    numero_saques += 1\n",
        "\n",
        "  else:\n",
        "    print(\"Operação falhou! O valor informado é inválido.\")\n",
        "\n",
        "  return saldo, extrato"
      ],
      "metadata": {
        "id": "fGh1lU2XgxRG"
      },
      "execution_count": 9,
      "outputs": []
    },
    {
      "cell_type": "code",
      "source": [
        "def exibeextrato(saldo, extrato):\n",
        "  print(\"\\n================ EXTRATO ================\")\n",
        "  print(\"Não foram realizadas movimentações.\" if not extrato else extrato)\n",
        "  print(f\"\\nSaldo: R$ {saldo:.2f}\")\n",
        "  print(\"==========================================\")"
      ],
      "metadata": {
        "id": "KHDZvY7NivuX"
      },
      "execution_count": 11,
      "outputs": []
    },
    {
      "cell_type": "code",
      "source": [
        "def filtrarusers(usuarios, cpf):\n",
        "  usuariosfiltrados = [usuario for usuario in usuarios if usuario[\"cpf\"] == cpf]\n",
        "  return usuariosfiltrados[0] if usuariosfiltrados else None\n",
        ""
      ],
      "metadata": {
        "id": "n6iibI9KjuSs"
      },
      "execution_count": 14,
      "outputs": []
    },
    {
      "cell_type": "code",
      "source": [
        "def criarusuario(usuarios):\n",
        "  cpf = int(input(\"insira seu CPF, apenas numeros: \"))\n",
        "  usuario = filtrarusers(usuarios, cpf)\n",
        "  if usuario:\n",
        "    print(\"usuario ja existe\")\n",
        "    return\n",
        "  nome = input(\"nome: \")\n",
        "  endereco = input(\"endereço: \")\n",
        "  datanascimento = input(\"coloque sua data de nascimento: --/--/----\")\n",
        "\n",
        "  usuarios.append({\"nome\": nome, \"endereco\": endereco, \"datanascimento\": datanascimento})\n",
        "  print(\"Usuario cadastrado com sucesso\")"
      ],
      "metadata": {
        "id": "xSd_uXTEjO3p"
      },
      "execution_count": 15,
      "outputs": []
    },
    {
      "cell_type": "code",
      "source": [
        "def criarconta(agencia, usuarios, numero_conta):\n",
        "  cpf = int(input(\"Digite seu cpf: \"))\n",
        "  usuario = filtrarusers(usuario, cpf)\n",
        "\n",
        "  if usuario:\n",
        "    print(\"conta criada com sucesso!\")\n",
        "    return ({\"agencia\": agencia, \"numero_conta\": numero_conta, \"usuario\": usuario})\n",
        "  else:\n",
        "    print(\"Usuario nao encontrado\")"
      ],
      "metadata": {
        "id": "ahGrCxtzn0MV"
      },
      "execution_count": 16,
      "outputs": []
    },
    {
      "cell_type": "code",
      "source": [
        "def listarconta():\n",
        ""
      ],
      "metadata": {
        "id": "iYgONTG5oxFg"
      },
      "execution_count": null,
      "outputs": []
    },
    {
      "cell_type": "code",
      "source": [
        "def main():\n",
        "  AGENCIA = \"0001\"\n",
        "  LIMITE_SAQUES = 3\n",
        "\n",
        "\n",
        "  saldo = 0\n",
        "  extrato = \"\"\n",
        "  limite = 500\n",
        "  numero_saques = 0\n",
        "  usuarios = []\n",
        "  contas = []\n",
        "\n",
        "  while True:\n",
        "\n",
        "    opcao = menu()\n",
        "    if opcao == 'd':\n",
        "      saldo, extrato = depositar(saldo, valor, extrato)\n",
        "\n",
        "    elif opcao == 's':\n",
        "      valor = float(input(\"Qual valor para saque? \"))\n",
        "      saldo, extrato = saque(\n",
        "          saldo=saldo,\n",
        "          valor=valor,\n",
        "          extrato=extrato,\n",
        "          limite=limite,\n",
        "          numero_saques=numero_saques,\n",
        "          limites_saques=LIMITE_SAQUES,\n",
        "      )\n",
        "\n",
        "\n",
        "    elif opcao == 'e':\n",
        "      exibeextrato(saldo, extrato=extrato)\n",
        "\n",
        "    elif opcao == 'nu':\n",
        "      criarusuario(usuarios)\n",
        "\n",
        "    elif opcao == 'nc':\n",
        "      numero_conta = len(contas) +1\n",
        "      conta = criarconta(AGENCIA, numero_conta, usuarios)\n",
        "\n",
        "      if conta:\n",
        "        contas.append(conta)\n",
        "\n",
        "    elif opcao == 'q':\n",
        "      break\n",
        "\n",
        "    else: print('opçao invalida, por favor selecione novamente a operação desejada.')"
      ],
      "metadata": {
        "id": "vx8_zIljehgZ"
      },
      "execution_count": 17,
      "outputs": []
    },
    {
      "cell_type": "code",
      "source": [
        "main()"
      ],
      "metadata": {
        "colab": {
          "base_uri": "https://localhost:8080/"
        },
        "id": "o5u_xJayqoTt",
        "outputId": "cf553037-3699-47ba-b2f3-341397843568"
      },
      "execution_count": null,
      "outputs": [
        {
          "output_type": "stream",
          "name": "stdout",
          "text": [
            "\n",
            "\n",
            "  [d] Depositar\n",
            "  [s] Sacar\n",
            "  [e] Extrato\n",
            "  [q] Sair\n",
            "\n",
            "d\n",
            "Qual valor que deseja depositar? 650\n",
            "Qual valor que deseja depositar? 800\n",
            "Depósito feito com sucesso\n"
          ]
        }
      ]
    }
  ]
}