{
  "nbformat": 4,
  "nbformat_minor": 0,
  "metadata": {
    "colab": {
      "provenance": [],
      "authorship_tag": "ABX9TyOuyr5lWhH39iWPrn4nZP8y",
      "include_colab_link": true
    },
    "kernelspec": {
      "name": "python3",
      "display_name": "Python 3"
    },
    "language_info": {
      "name": "python"
    }
  },
  "cells": [
    {
      "cell_type": "markdown",
      "metadata": {
        "id": "view-in-github",
        "colab_type": "text"
      },
      "source": [
        "<a href=\"https://colab.research.google.com/github/Jullyhein/diobootcamp/blob/main/Polimorfismo.ipynb\" target=\"_parent\"><img src=\"https://colab.research.google.com/assets/colab-badge.svg\" alt=\"Open In Colab\"/></a>"
      ]
    },
    {
      "cell_type": "code",
      "execution_count": 1,
      "metadata": {
        "id": "xTYAUV7WNiM2"
      },
      "outputs": [],
      "source": [
        "class Passaro:\n",
        "  def voar(self):\n",
        "    print(\"Voando ...\")\n",
        "\n",
        "class Pardal(Passaro):\n",
        "  def voar(self):\n",
        "    super().voar()\n",
        "\n",
        "class Avestruz(Passaro):\n",
        "  def voar(self):\n",
        "    print(\"Avestruz não voa\")"
      ]
    },
    {
      "cell_type": "code",
      "source": [
        "def planodevoo(obj):\n",
        "  obj.voar()\n",
        ""
      ],
      "metadata": {
        "id": "5yhmboUwOIHP"
      },
      "execution_count": 2,
      "outputs": []
    },
    {
      "cell_type": "code",
      "source": [
        "p1 = Pardal()\n",
        "p2 = Avestruz()"
      ],
      "metadata": {
        "id": "AIZ4MivBOPqE"
      },
      "execution_count": 3,
      "outputs": []
    },
    {
      "cell_type": "code",
      "source": [
        "planodevoo(p1)\n",
        "planodevoo(p2)"
      ],
      "metadata": {
        "colab": {
          "base_uri": "https://localhost:8080/"
        },
        "id": "18LMVDJtOY-t",
        "outputId": "e7adf277-e436-4457-92ee-eab75d476af3"
      },
      "execution_count": 4,
      "outputs": [
        {
          "output_type": "stream",
          "name": "stdout",
          "text": [
            "Voando ...\n",
            "Avestruz não voa\n"
          ]
        }
      ]
    },
    {
      "cell_type": "code",
      "source": [
        "class Estudante:\n",
        "  escola = \"Dio\"\n",
        "\n",
        "  def __init__(self, nome, matricula):\n",
        "    self.nome = nome\n",
        "    self.matricula = matricula\n",
        "\n",
        "  def __str__(self):\n",
        "    return f\"{self.nome}, {self.matricula} - {self.escola}\"\n"
      ],
      "metadata": {
        "id": "YN9byaMOQ4J_"
      },
      "execution_count": 5,
      "outputs": []
    },
    {
      "cell_type": "code",
      "source": [
        "aluno_1 = Estudante(\"Jully\", 1)\n",
        "aluno_2 = Estudante(\"Pedro\", 2)"
      ],
      "metadata": {
        "id": "FeIDn656Q4Vu"
      },
      "execution_count": 6,
      "outputs": []
    },
    {
      "cell_type": "code",
      "source": [
        "print(aluno_1)\n",
        "print(aluno_2)"
      ],
      "metadata": {
        "colab": {
          "base_uri": "https://localhost:8080/"
        },
        "id": "Fisn0N2_RgqD",
        "outputId": "efb933dd-875f-4add-fd9d-fb49499f7753"
      },
      "execution_count": 7,
      "outputs": [
        {
          "output_type": "stream",
          "name": "stdout",
          "text": [
            "Jully, 1 - Dio\n",
            "Pedro, 2 - Dio\n"
          ]
        }
      ]
    }
  ]
}