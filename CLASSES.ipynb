{
  "nbformat": 4,
  "nbformat_minor": 0,
  "metadata": {
    "colab": {
      "provenance": [],
      "authorship_tag": "ABX9TyPbm8ubAF8ZNC3+n0OqjQes",
      "include_colab_link": true
    },
    "kernelspec": {
      "name": "python3",
      "display_name": "Python 3"
    },
    "language_info": {
      "name": "python"
    }
  },
  "cells": [
    {
      "cell_type": "markdown",
      "metadata": {
        "id": "view-in-github",
        "colab_type": "text"
      },
      "source": [
        "<a href=\"https://colab.research.google.com/github/Jullyhein/diobootcamp/blob/main/CLASSES.ipynb\" target=\"_parent\"><img src=\"https://colab.research.google.com/assets/colab-badge.svg\" alt=\"Open In Colab\"/></a>"
      ]
    },
    {
      "cell_type": "markdown",
      "source": [
        "Crie uma classe chamada aluno com os seguintes atributos:\n",
        "- Nome\n",
        "- Nota 1\n",
        "- Nota 2\n",
        "- Crie um construtor para a classe (__init__)"
      ],
      "metadata": {
        "id": "XNuycGWXq8sq"
      }
    },
    {
      "cell_type": "code",
      "execution_count": 44,
      "metadata": {
        "id": "6aN1Rtn5q2a6"
      },
      "outputs": [],
      "source": [
        "class Aluno:\n",
        "  def __init__(self, nome, nota1, nota2):\n",
        "    self.nome = nome\n",
        "    self.nota1 = nota1\n",
        "    self.nota2 = nota2\n",
        "    self.media = 0.0\n",
        "\n",
        "  def calcula_media(self):\n",
        "    self.media = (self.nota1 + self.nota2) / 2\n",
        "    return self.media\n",
        "\n",
        "  def mostra_valor(self):\n",
        "    print(\"Nome: \", self.nome)\n",
        "    print(\"Nota 01: \", self.nota1)\n",
        "    print(\"Nota 02: \", self.nota2)\n",
        "    print(\"Média: \", self.media)\n",
        "\n",
        "  def resultado(self):\n",
        "    if self.media >= 6:\n",
        "      return(\"aprovado\")\n",
        "    else:\n",
        "      return(\"reprovado\")"
      ]
    },
    {
      "cell_type": "code",
      "source": [
        "aluno1 = Aluno('Jully', 7.0, 8.0)\n",
        "media = aluno1.calcula_media()\n",
        "print(media)"
      ],
      "metadata": {
        "colab": {
          "base_uri": "https://localhost:8080/"
        },
        "id": "IZ1Utm2JyAHr",
        "outputId": "5b26d63b-0ca2-4607-d28b-82677d12ab88"
      },
      "execution_count": 45,
      "outputs": [
        {
          "output_type": "stream",
          "name": "stdout",
          "text": [
            "7.5\n"
          ]
        }
      ]
    },
    {
      "cell_type": "code",
      "source": [
        "aluno1 = Aluno('Pedro', 5.0, 6.0)\n",
        "media = aluno1.calcula_media()\n",
        "print(media)"
      ],
      "metadata": {
        "colab": {
          "base_uri": "https://localhost:8080/"
        },
        "id": "4upLWaMZ4B-H",
        "outputId": "884348b2-e369-4b1b-b3e5-8acac364714d"
      },
      "execution_count": 46,
      "outputs": [
        {
          "output_type": "stream",
          "name": "stdout",
          "text": [
            "5.5\n"
          ]
        }
      ]
    },
    {
      "cell_type": "markdown",
      "source": [
        "bicicleta"
      ],
      "metadata": {
        "id": "T7h_znVuHg3o"
      }
    },
    {
      "cell_type": "code",
      "source": [
        "class Bicicleta:\n",
        "  def __init__(self, cor, modelo, ano, valor):\n",
        "    self.cor = cor\n",
        "    self.modelo = modelo\n",
        "    self.ano = ano\n",
        "    self.valor = valor\n",
        "\n",
        "  def buzinar(self):\n",
        "    print('TRIMM TRIMMM')\n",
        "\n",
        "  def parar(self):\n",
        "    print(\"Parando a bicicleta\")\n",
        "    print(\"Bicicleta parada\")\n",
        "\n",
        "  def correr(self):\n",
        "    print(\"VRUMMMMM\")\n",
        "\n",
        "  def __str__(self):\n",
        "    return f\"Bicicleta: cor={self.cor}, modelo={self.modelo}, ano={self.ano}, valor={self.valor}\"\n",
        "\n",
        "    '''\n",
        "  def __str__(self):\n",
        "    return f\"{self.__class__.__name__}: {',' .join([f'{chave} = {valor}' for chave, valor in self.__dict__.items()])}\"\n",
        "    '''"
      ],
      "metadata": {
        "id": "Xa0_hxk3GTAK"
      },
      "execution_count": 52,
      "outputs": []
    },
    {
      "cell_type": "code",
      "source": [
        "caloi = Bicicleta('preta', 'caloi', 1998, 1.000)"
      ],
      "metadata": {
        "id": "JacZ82gtIPh2"
      },
      "execution_count": 53,
      "outputs": []
    },
    {
      "cell_type": "code",
      "source": [
        "caloi.buzinar()\n",
        "caloi.parar()\n",
        "caloi.correr()"
      ],
      "metadata": {
        "colab": {
          "base_uri": "https://localhost:8080/"
        },
        "id": "6Bwn-bN0JYUA",
        "outputId": "45e41b03-9577-445f-cba4-d30f894caf72"
      },
      "execution_count": 54,
      "outputs": [
        {
          "output_type": "stream",
          "name": "stdout",
          "text": [
            "TRIMM TRIMMM\n",
            "Parando a bicicleta\n",
            "Bicicleta parada\n",
            "VRUMMMMM\n"
          ]
        }
      ]
    },
    {
      "cell_type": "code",
      "source": [
        "print(caloi.cor, caloi.modelo, caloi.ano, caloi.valor)"
      ],
      "metadata": {
        "colab": {
          "base_uri": "https://localhost:8080/"
        },
        "id": "WnL7Z-PVJm1N",
        "outputId": "8c3c41b5-424e-4a78-f2d9-66e794b6797f"
      },
      "execution_count": 55,
      "outputs": [
        {
          "output_type": "stream",
          "name": "stdout",
          "text": [
            "preta caloi 1998 1.0\n"
          ]
        }
      ]
    },
    {
      "cell_type": "code",
      "source": [
        "class Animal:\n",
        "  def __init__(self, nro_patas):\n",
        "    self.nro_patas = nro_patas\n",
        "\n",
        "  def __str__(self):\n",
        "    return f\"{self.__class__.__name__}: {',' .join([f'{chave} = {valor}' for chave, valor in self.__dict__.items()])}\""
      ],
      "metadata": {
        "id": "XZdVU_A78ZvO"
      },
      "execution_count": 11,
      "outputs": []
    },
    {
      "cell_type": "code",
      "source": [
        "class Mamifero(Animal):\n",
        "  def __init__(self, nro_patas, cor_pelo):\n",
        "    self.nro_patas = nro_patas\n",
        "    self.cor_pelo = cor_pelo\n",
        "    super().__init__(nro_patas)"
      ],
      "metadata": {
        "id": "PCoFIMuP8fm7"
      },
      "execution_count": 13,
      "outputs": []
    },
    {
      "cell_type": "code",
      "source": [
        "class Ave(Animal):\n",
        "  def __init__(self, nro_patas, cor_bico):\n",
        "    self.nro_patas = nro_patas\n",
        "    self.cor_bico = cor_bico\n",
        "    super().__init__(nro_patas)"
      ],
      "metadata": {
        "id": "4t44q1nX8pg3"
      },
      "execution_count": 26,
      "outputs": []
    },
    {
      "cell_type": "code",
      "source": [
        "class Cachorro(Mamifero):\n",
        "  pass"
      ],
      "metadata": {
        "id": "rEOO9yNM8l1Y"
      },
      "execution_count": 4,
      "outputs": []
    },
    {
      "cell_type": "code",
      "source": [
        "class Gato(Mamifero):\n",
        "  pass"
      ],
      "metadata": {
        "id": "LpGULzla8vVn"
      },
      "execution_count": 14,
      "outputs": []
    },
    {
      "cell_type": "code",
      "source": [
        "class Leao(Mamifero):\n",
        "  pass"
      ],
      "metadata": {
        "id": "mLJS3Q9W8tIT"
      },
      "execution_count": 7,
      "outputs": []
    },
    {
      "cell_type": "code",
      "source": [
        "class Ornitorrinco(Mamifero, Ave):\n",
        "  pass"
      ],
      "metadata": {
        "id": "8MQhVn-j86Ht"
      },
      "execution_count": 21,
      "outputs": []
    },
    {
      "cell_type": "code",
      "source": [
        "gato = Gato(4, 'preto')\n",
        "print(gato)"
      ],
      "metadata": {
        "colab": {
          "base_uri": "https://localhost:8080/"
        },
        "id": "_lhBZlL6_i66",
        "outputId": "0d3817cd-3585-4ef2-c08c-8c90717f68e0"
      },
      "execution_count": 15,
      "outputs": [
        {
          "output_type": "stream",
          "name": "stdout",
          "text": [
            "Gato: nro_patas = 4,cor_pelo = preto\n"
          ]
        }
      ]
    },
    {
      "cell_type": "code",
      "source": [
        "ornitorrinco = Ornitorrinco(2, \"vermelho\", \"laranja\")\n",
        "print(ornitorrinco)"
      ],
      "metadata": {
        "colab": {
          "base_uri": "https://localhost:8080/",
          "height": 166
        },
        "id": "szhyvbox_2in",
        "outputId": "9737677b-02fb-46d0-8ef7-79197e07fac5"
      },
      "execution_count": 27,
      "outputs": [
        {
          "output_type": "error",
          "ename": "TypeError",
          "evalue": "Mamifero.__init__() takes 3 positional arguments but 4 were given",
          "traceback": [
            "\u001b[0;31m---------------------------------------------------------------------------\u001b[0m",
            "\u001b[0;31mTypeError\u001b[0m                                 Traceback (most recent call last)",
            "\u001b[0;32m<ipython-input-27-7517d1433399>\u001b[0m in \u001b[0;36m<cell line: 1>\u001b[0;34m()\u001b[0m\n\u001b[0;32m----> 1\u001b[0;31m \u001b[0mornitorrinco\u001b[0m \u001b[0;34m=\u001b[0m \u001b[0mOrnitorrinco\u001b[0m\u001b[0;34m(\u001b[0m\u001b[0;36m2\u001b[0m\u001b[0;34m,\u001b[0m \u001b[0;34m\"vermelho\"\u001b[0m\u001b[0;34m,\u001b[0m \u001b[0;34m\"laranja\"\u001b[0m\u001b[0;34m)\u001b[0m\u001b[0;34m\u001b[0m\u001b[0;34m\u001b[0m\u001b[0m\n\u001b[0m\u001b[1;32m      2\u001b[0m \u001b[0mprint\u001b[0m\u001b[0;34m(\u001b[0m\u001b[0mornitorrinco\u001b[0m\u001b[0;34m)\u001b[0m\u001b[0;34m\u001b[0m\u001b[0;34m\u001b[0m\u001b[0m\n",
            "\u001b[0;31mTypeError\u001b[0m: Mamifero.__init__() takes 3 positional arguments but 4 were given"
          ]
        }
      ]
    },
    {
      "cell_type": "code",
      "source": [
        "class Foo:\n",
        "\n",
        "    def hello(self):\n",
        "\n",
        "        print(self.__class__.__name__.lower())\n",
        "\n",
        "\n",
        "\n",
        "\n",
        "\n",
        "class Bar(Foo):\n",
        "\n",
        "    def hello(self):\n",
        "\n",
        "        return super().hello()\n"
      ],
      "metadata": {
        "id": "Zy9kRKE3EZA0"
      },
      "execution_count": 23,
      "outputs": []
    },
    {
      "cell_type": "code",
      "source": [
        "bar = Bar()\n",
        "\n",
        "bar.hello()"
      ],
      "metadata": {
        "colab": {
          "base_uri": "https://localhost:8080/"
        },
        "id": "u5VXyYU1EaVN",
        "outputId": "d3a02151-20b8-4be3-a047-b5f94e6ac2ff"
      },
      "execution_count": 24,
      "outputs": [
        {
          "output_type": "stream",
          "name": "stdout",
          "text": [
            "bar\n"
          ]
        }
      ]
    }
  ]
}